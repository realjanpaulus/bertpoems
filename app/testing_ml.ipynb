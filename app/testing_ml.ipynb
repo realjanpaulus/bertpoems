{
 "cells": [
  {
   "cell_type": "markdown",
   "metadata": {},
   "source": [
    "# ml_testing"
   ]
  },
  {
   "cell_type": "code",
   "execution_count": 1,
   "metadata": {},
   "outputs": [],
   "source": [
    "import numpy as np\n",
    "import pandas as pd\n",
    "\n",
    "from sklearn.feature_extraction.text import CountVectorizer, TfidfVectorizer\n",
    "from sklearn.svm import LinearSVC\n",
    "from sklearn.model_selection import train_test_split\n",
    "from sklearn.metrics import f1_score\n",
    "from sklearn.model_selection import cross_val_score"
   ]
  },
  {
   "cell_type": "code",
   "execution_count": 2,
   "metadata": {},
   "outputs": [],
   "source": [
    "corpus = pd.read_csv(\"../corpora/german_modern_poems.csv\")"
   ]
  },
  {
   "cell_type": "code",
   "execution_count": 17,
   "metadata": {},
   "outputs": [],
   "source": [
    "def random_downsampling(corpus, class_column = \"epoch\"):\n",
    "    classes = corpus[class_column].unique()\n",
    "    #for cls in classes:    "
   ]
  },
  {
   "cell_type": "code",
   "execution_count": 20,
   "metadata": {},
   "outputs": [],
   "source": [
    "l = ['Expressionismus_Dadaismus', 'Jahrhundertwende', 'Naturalismus']"
   ]
  },
  {
   "cell_type": "code",
   "execution_count": 31,
   "metadata": {},
   "outputs": [],
   "source": [
    "corpus_1 = corpus[corpus.epoch == 'Expressionismus_Dadaismus']\n",
    "corpus_2 = corpus[corpus.epoch == 'Jahrhundertwende']\n",
    "corpus_3 = corpus[corpus.epoch == 'Naturalismus']\n",
    "\n",
    "corpus_2 = corpus_2.sample(2000)\n",
    "\n",
    "ncorpus = pd.concat([corpus_1, corpus_2, corpus_3], axis=0)"
   ]
  },
  {
   "cell_type": "code",
   "execution_count": 33,
   "metadata": {},
   "outputs": [
    {
     "data": {
      "text/plain": [
       "Bierbaum, Otto Julius           469\n",
       "Müller-Jahnke, Clara            225\n",
       "Falke, Gustav                   188\n",
       "Meyer, Conrad Ferdinand         148\n",
       "Hartleben, Otto Erich           135\n",
       "Holz, Arno                      125\n",
       "Liliencron, Detlev von           96\n",
       "Scheerbart, Paul                 58\n",
       "Fontane, Theodor                 48\n",
       "Keller, Gottfried                17\n",
       "Nietzsche, Friedrich              9\n",
       "Dahn, Felix                       6\n",
       "Hofmannsthal, Hugo von            1\n",
       "Lenz, Jakob Michael Reinhold      1\n",
       "Heyse, Paul                       1\n",
       "Storm, Theodor                    1\n",
       "Name: poet, dtype: int64"
      ]
     },
     "execution_count": 33,
     "metadata": {},
     "output_type": "execute_result"
    }
   ],
   "source": [
    "corpus_3.poet.value_counts()"
   ]
  },
  {
   "cell_type": "code",
   "execution_count": null,
   "metadata": {},
   "outputs": [],
   "source": []
  },
  {
   "cell_type": "code",
   "execution_count": 18,
   "metadata": {},
   "outputs": [
    {
     "name": "stdout",
     "output_type": "stream",
     "text": [
      "['Expressionismus_Dadaismus' 'Jahrhundertwende' 'Naturalismus']\n"
     ]
    }
   ],
   "source": [
    "random_downsampling(corpus)"
   ]
  },
  {
   "cell_type": "code",
   "execution_count": 19,
   "metadata": {},
   "outputs": [
    {
     "data": {
      "text/html": [
       "<div>\n",
       "<style scoped>\n",
       "    .dataframe tbody tr th:only-of-type {\n",
       "        vertical-align: middle;\n",
       "    }\n",
       "\n",
       "    .dataframe tbody tr th {\n",
       "        vertical-align: top;\n",
       "    }\n",
       "\n",
       "    .dataframe thead th {\n",
       "        text-align: right;\n",
       "    }\n",
       "</style>\n",
       "<table border=\"1\" class=\"dataframe\">\n",
       "  <thead>\n",
       "    <tr style=\"text-align: right;\">\n",
       "      <th></th>\n",
       "      <th>pid</th>\n",
       "      <th>filename</th>\n",
       "      <th>poet</th>\n",
       "      <th>title</th>\n",
       "      <th>year</th>\n",
       "      <th>poem</th>\n",
       "      <th>poemlength</th>\n",
       "      <th>epoch</th>\n",
       "    </tr>\n",
       "  </thead>\n",
       "  <tbody>\n",
       "    <tr>\n",
       "      <th>768</th>\n",
       "      <td>45417</td>\n",
       "      <td>Rilke, Rainer Maria_Pont du Carrousel_1900</td>\n",
       "      <td>Rilke, Rainer Maria</td>\n",
       "      <td>Pont du Carrousel</td>\n",
       "      <td>1900</td>\n",
       "      <td>Der blinde Mann, der auf der Brücke steht, gra...</td>\n",
       "      <td>72</td>\n",
       "      <td>Jahrhundertwende</td>\n",
       "    </tr>\n",
       "  </tbody>\n",
       "</table>\n",
       "</div>"
      ],
      "text/plain": [
       "       pid                                    filename                 poet  \\\n",
       "768  45417  Rilke, Rainer Maria_Pont du Carrousel_1900  Rilke, Rainer Maria   \n",
       "\n",
       "                 title  year  \\\n",
       "768  Pont du Carrousel  1900   \n",
       "\n",
       "                                                  poem  poemlength  \\\n",
       "768  Der blinde Mann, der auf der Brücke steht, gra...          72   \n",
       "\n",
       "                epoch  \n",
       "768  Jahrhundertwende  "
      ]
     },
     "execution_count": 19,
     "metadata": {},
     "output_type": "execute_result"
    }
   ],
   "source": [
    "corpus.sample()"
   ]
  },
  {
   "cell_type": "code",
   "execution_count": 2,
   "metadata": {},
   "outputs": [],
   "source": [
    "corpus = pd.read_csv(\"../corpora/german_modern_poems.csv\")"
   ]
  },
  {
   "cell_type": "code",
   "execution_count": 14,
   "metadata": {},
   "outputs": [
    {
     "data": {
      "text/plain": [
       "Jahrhundertwende             5371\n",
       "Naturalismus                 1528\n",
       "Expressionismus_Dadaismus     943\n",
       "Name: epoch, dtype: int64"
      ]
     },
     "execution_count": 14,
     "metadata": {},
     "output_type": "execute_result"
    }
   ],
   "source": [
    "corpus.epoch.value_counts()"
   ]
  },
  {
   "cell_type": "code",
   "execution_count": 3,
   "metadata": {},
   "outputs": [],
   "source": [
    "labels = corpus[\"epoch\"]\n",
    "vector  = TfidfVectorizer().fit_transform(corpus[\"poem\"])\n",
    "\n",
    "\n",
    "X_train, X_test, y_train, y_test = train_test_split(vector, \n",
    "                                                    labels, \n",
    "                                                    test_size=0.2, \n",
    "                                                    train_size=0.8,\n",
    "                                                    random_state=42)"
   ]
  },
  {
   "cell_type": "code",
   "execution_count": 6,
   "metadata": {},
   "outputs": [],
   "source": [
    "def classify_svm(C=1.0, cv=3):   \n",
    "    # SVM\n",
    "    svm_classifier = LinearSVC(C=C)\n",
    "    svm = svm_classifier.fit(X_train, y_train)\n",
    "\n",
    "    # cross validation des Trainingsdatensatzes\n",
    "    svm_scores = cross_val_score(svm_classifier, vector, labels, cv=cv)\n",
    "    svm_mean = np.mean(svm_scores)\n",
    "\n",
    "    print(\"Der Mittelwert der cross validation bei der Klassifizierung \" \n",
    "          + f\" mit SVM ist {str(np.around(svm_mean, decimals=3))}.\"\n",
    "          + \"\\n\")\n",
    "\n",
    "\n",
    "    # F1-score des Testdatensatzes\n",
    "    y_pred = svm_classifier.predict(X_test)\n",
    "    svm_f1 = f1_score(y_test, y_pred, average=\"micro\")\n",
    "\n",
    "    print(\"Der F1-score für die Klassifizierung mit SVM ist \"\n",
    "          + f\"{str(np.around(svm_f1, decimals=3))}.\")\n",
    "    \n",
    "    return y_pred"
   ]
  },
  {
   "cell_type": "code",
   "execution_count": 7,
   "metadata": {},
   "outputs": [
    {
     "name": "stdout",
     "output_type": "stream",
     "text": [
      "Der Mittelwert der cross validation bei der Klassifizierung  mit SVM ist 0.731.\n",
      "\n",
      "Der F1-score für die Klassifizierung mit SVM ist 0.743.\n"
     ]
    }
   ],
   "source": [
    "y_pred = classify_svm()"
   ]
  },
  {
   "cell_type": "code",
   "execution_count": 13,
   "metadata": {},
   "outputs": [
    {
     "data": {
      "image/png": "[encoded data removed]",
      "text/plain": [
       "<Figure size 720x504 with 2 Axes>"
      ]
     },
     "metadata": {
      "needs_background": "light"
     },
     "output_type": "display_data"
    }
   ],
   "source": [
    "import seaborn as sns\n",
    "import matplotlib.pyplot as plt\n",
    "from sklearn.metrics import confusion_matrix, plot_confusion_matrix\n",
    "\n",
    "svm_classifier = LinearSVC(C=1.0)\n",
    "svm = svm_classifier.fit(X_train, y_train)\n",
    "\n",
    "y_pred = svm_classifier.predict(X_test)\n",
    "\n",
    "cnf_matrix = confusion_matrix(y_test, y_pred)\n",
    "classes = corpus[\"epoch\"].drop_duplicates().tolist()\n",
    "cnf_df = pd.DataFrame(cnf_matrix, index=classes, columns=classes)\n",
    "   \n",
    "fig, ax = plt.subplots(figsize = (10, 7))\n",
    "plot_confusion_matrix(svm_classifier, \n",
    "                      X_test, \n",
    "                      y_test,\n",
    "                      display_labels=classes,\n",
    "                      cmap=plt.cm.Blues,\n",
    "                      ax = ax)\n",
    "plt.show()"
   ]
  },
  {
   "cell_type": "code",
   "execution_count": null,
   "metadata": {},
   "outputs": [],
   "source": []
  },
  {
   "cell_type": "code",
   "execution_count": null,
   "metadata": {},
   "outputs": [],
   "source": []
  }
 ],
 "metadata": {
  "kernelspec": {
   "display_name": "Python 3",
   "language": "python",
   "name": "python3"
  },
  "language_info": {
   "codemirror_mode": {
    "name": "ipython",
    "version": 3
   },
   "file_extension": ".py",
   "mimetype": "text/x-python",
   "name": "python",
   "nbconvert_exporter": "python",
   "pygments_lexer": "ipython3",
   "version": "3.7.4"
  }
 },
 "nbformat": 4,
 "nbformat_minor": 2
}
