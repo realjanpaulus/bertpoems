{
 "cells": [
  {
   "cell_type": "markdown",
   "metadata": {},
   "source": [
    "# Bert Evaluation"
   ]
  },
  {
   "cell_type": "code",
   "execution_count": 1,
   "metadata": {},
   "outputs": [],
   "source": [
    "import numpy as np\n",
    "import pandas as pd\n",
    "import json"
   ]
  },
  {
   "cell_type": "markdown",
   "metadata": {},
   "source": [
    "## Bert-Deutsch"
   ]
  },
  {
   "cell_type": "code",
   "execution_count": 2,
   "metadata": {},
   "outputs": [],
   "source": [
    "year_german = pd.read_json(\"../results/bert/cv_yearc_german(16.06.20_17:21).json\")\n",
    "year_german_ey = np.mean(year_german[\"epoch_year\"])\n",
    "year_german_ep = np.mean(year_german[\"epoch_poet\"])"
   ]
  },
  {
   "cell_type": "code",
   "execution_count": 3,
   "metadata": {},
   "outputs": [
    {
     "name": "stdout",
     "output_type": "stream",
     "text": [
      "0.6313929336656605\n",
      "0.6276718231263684\n"
     ]
    }
   ],
   "source": [
    "print(year_german_ey)\n",
    "print(year_german_ep)"
   ]
  },
  {
   "cell_type": "code",
   "execution_count": 4,
   "metadata": {},
   "outputs": [],
   "source": [
    "poet_german = pd.read_json(\"../results/bert/cv_poetc_german(16.06.20_20:43).json\")\n",
    "poet_german_ey = np.mean(poet_german[\"epoch_year\"])\n",
    "poet_german_ep = np.mean(poet_german[\"epoch_poet\"])"
   ]
  },
  {
   "cell_type": "code",
   "execution_count": 5,
   "metadata": {},
   "outputs": [
    {
     "name": "stdout",
     "output_type": "stream",
     "text": [
      "0.6383232118758431\n",
      "0.6690233499444023\n"
     ]
    }
   ],
   "source": [
    "print(poet_german_ey)\n",
    "print(poet_german_ep)"
   ]
  },
  {
   "cell_type": "markdown",
   "metadata": {},
   "source": [
    "## Bert-Rede"
   ]
  },
  {
   "cell_type": "code",
   "execution_count": 6,
   "metadata": {},
   "outputs": [],
   "source": [
    "year_rede = pd.read_json(\"../results/bert/cv_yearc_rede(17.06.20_17:28).json\")\n",
    "year_rede_ey = np.mean(year_rede[\"epoch_year\"])\n",
    "year_rede_ep = np.mean(year_rede[\"epoch_poet\"])"
   ]
  },
  {
   "cell_type": "code",
   "execution_count": 7,
   "metadata": {},
   "outputs": [
    {
     "name": "stdout",
     "output_type": "stream",
     "text": [
      "0.5928879706152431\n",
      "0.6438416633871175\n"
     ]
    }
   ],
   "source": [
    "print(year_rede_ey)\n",
    "print(year_rede_ep)"
   ]
  },
  {
   "cell_type": "code",
   "execution_count": 8,
   "metadata": {},
   "outputs": [],
   "source": [
    "poet_rede = pd.read_json(\"../results/bert/cv_poetc_rede(17.06.20_22:11).json\")\n",
    "poet_rede_ey = np.mean(poet_rede[\"epoch_year\"])\n",
    "poet_rede_ep = np.mean(poet_rede[\"epoch_poet\"])"
   ]
  },
  {
   "cell_type": "code",
   "execution_count": 9,
   "metadata": {},
   "outputs": [
    {
     "name": "stdout",
     "output_type": "stream",
     "text": [
      "0.6266724114092532\n",
      "0.6856402028770446\n"
     ]
    }
   ],
   "source": [
    "print(poet_rede_ey)\n",
    "print(poet_rede_ep)"
   ]
  },
  {
   "cell_type": "markdown",
   "metadata": {},
   "source": [
    "## Bert-Deutsch + Domain Adaption"
   ]
  },
  {
   "cell_type": "code",
   "execution_count": 10,
   "metadata": {},
   "outputs": [],
   "source": [
    "year_german_da = pd.read_json(\"../results/bert/cv_yearc_da_german(23.06.20_09:50).json\")\n",
    "year_german_da_ey = np.mean(year_german_da[\"epoch_year\"])\n",
    "year_german_da_ep = np.mean(year_german_da[\"epoch_poet\"])"
   ]
  },
  {
   "cell_type": "code",
   "execution_count": 11,
   "metadata": {},
   "outputs": [
    {
     "name": "stdout",
     "output_type": "stream",
     "text": [
      "0.5533018496654857\n",
      "0.5283234946871307\n"
     ]
    }
   ],
   "source": [
    "print(year_german_da_ey)\n",
    "print(year_german_da_ep)"
   ]
  },
  {
   "cell_type": "code",
   "execution_count": 12,
   "metadata": {},
   "outputs": [],
   "source": [
    "poet_german_da = pd.read_json(\"../results/bert/cv_poetc_da_german(23.06.20_13:00).json\")\n",
    "poet_german_da_ey = np.mean(poet_german_da[\"epoch_year\"])\n",
    "poet_german_da_ep = np.mean(poet_german_da[\"epoch_poet\"])"
   ]
  },
  {
   "cell_type": "code",
   "execution_count": 13,
   "metadata": {},
   "outputs": [
    {
     "name": "stdout",
     "output_type": "stream",
     "text": [
      "0.5654288742446634\n",
      "0.6017139439507857\n"
     ]
    }
   ],
   "source": [
    "print(poet_german_da_ey)\n",
    "print(poet_german_da_ep)"
   ]
  },
  {
   "cell_type": "markdown",
   "metadata": {},
   "source": [
    "## Bert-Rede + Domain Adaption"
   ]
  },
  {
   "cell_type": "code",
   "execution_count": 14,
   "metadata": {},
   "outputs": [],
   "source": [
    "year_rede_da = pd.read_json(\"../results/bert/cv_yearc_da_rede(23.06.20_14:22).json\")\n",
    "year_rede_da_ey = np.mean(year_rede_da[\"epoch_year\"])\n",
    "year_rede_da_ep = np.mean(year_rede_da[\"epoch_poet\"])"
   ]
  },
  {
   "cell_type": "code",
   "execution_count": 15,
   "metadata": {},
   "outputs": [
    {
     "name": "stdout",
     "output_type": "stream",
     "text": [
      "0.6374139833230738\n",
      "0.6647660252205703\n"
     ]
    }
   ],
   "source": [
    "print(year_rede_da_ey)\n",
    "print(year_rede_da_ep)"
   ]
  },
  {
   "cell_type": "code",
   "execution_count": 18,
   "metadata": {},
   "outputs": [],
   "source": [
    "poet_rede_da = pd.read_json(\"../results/bert/cv_poetc_da_rede(23.06.20_17:40).json\")\n",
    "poet_rede_da_ey = np.mean(poet_rede_da[\"epoch_year\"])\n",
    "poet_rede_da_ep = np.mean(poet_rede_da[\"epoch_poet\"])"
   ]
  },
  {
   "cell_type": "code",
   "execution_count": 19,
   "metadata": {},
   "outputs": [
    {
     "name": "stdout",
     "output_type": "stream",
     "text": [
      "0.6690440553598443\n",
      "0.724221567905778\n"
     ]
    }
   ],
   "source": [
    "print(poet_rede_da_ey)\n",
    "print(poet_rede_da_ep)"
   ]
  },
  {
   "cell_type": "code",
   "execution_count": null,
   "metadata": {},
   "outputs": [],
   "source": []
  }
 ],
 "metadata": {
  "kernelspec": {
   "display_name": "Python 3",
   "language": "python",
   "name": "python3"
  },
  "language_info": {
   "codemirror_mode": {
    "name": "ipython",
    "version": 3
   },
   "file_extension": ".py",
   "mimetype": "text/x-python",
   "name": "python",
   "nbconvert_exporter": "python",
   "pygments_lexer": "ipython3",
   "version": "3.7.7"
  }
 },
 "nbformat": 4,
 "nbformat_minor": 4
}
