{
 "cells": [
  {
   "cell_type": "markdown",
   "metadata": {},
   "source": [
    "# Bert Evaluation"
   ]
  },
  {
   "cell_type": "code",
   "execution_count": 2,
   "metadata": {},
   "outputs": [],
   "source": [
    "import numpy as np\n",
    "import pandas as pd\n",
    "import json"
   ]
  },
  {
   "cell_type": "markdown",
   "metadata": {},
   "source": [
    "## Bert-Deutsch"
   ]
  },
  {
   "cell_type": "code",
   "execution_count": 9,
   "metadata": {},
   "outputs": [],
   "source": [
    "year_german = pd.read_json(\"../results/bert/cv_yearc_german(14.06.20_18:03).json\")\n",
    "year_german_ey = np.mean(year_german[\"epoch_year\"])\n",
    "year_german_ep = np.mean(year_german[\"epoch_poet\"])"
   ]
  },
  {
   "cell_type": "code",
   "execution_count": 14,
   "metadata": {},
   "outputs": [],
   "source": [
    "poet_german = pd.read_json(\"../results/bert/cv_poetc_german(15.06.20_11:11).json\")\n",
    "poet_german_ey = np.mean(poet_german[\"epoch_year\"])\n",
    "poet_german_ep = np.mean(poet_german[\"epoch_poet\"])"
   ]
  },
  {
   "cell_type": "markdown",
   "metadata": {},
   "source": [
    "## Bert-Rede"
   ]
  },
  {
   "cell_type": "code",
   "execution_count": 17,
   "metadata": {},
   "outputs": [],
   "source": [
    "year_rede = pd.read_json(\"../results/bert/cv_yearc_rede(15.06.20_14:42).json\")\n",
    "year_rede_ey = np.mean(year_rede[\"epoch_year\"])\n",
    "year_rede_ep = np.mean(year_rede[\"epoch_poet\"])"
   ]
  },
  {
   "cell_type": "code",
   "execution_count": 20,
   "metadata": {},
   "outputs": [],
   "source": [
    "poet_rede = pd.read_json(\"../results/bert/cv_poetc_rede(15.06.20_18:53).json\")\n",
    "poet_rede_ey = np.mean(poet_rede[\"epoch_year\"])\n",
    "poet_rede_ep = np.mean(poet_rede[\"epoch_poet\"])"
   ]
  },
  {
   "cell_type": "code",
   "execution_count": null,
   "metadata": {},
   "outputs": [],
   "source": []
  }
 ],
 "metadata": {
  "kernelspec": {
   "display_name": "Python 3",
   "language": "python",
   "name": "python3"
  },
  "language_info": {
   "codemirror_mode": {
    "name": "ipython",
    "version": 3
   },
   "file_extension": ".py",
   "mimetype": "text/x-python",
   "name": "python",
   "nbconvert_exporter": "python",
   "pygments_lexer": "ipython3",
   "version": "3.7.7"
  }
 },
 "nbformat": 4,
 "nbformat_minor": 4
}
