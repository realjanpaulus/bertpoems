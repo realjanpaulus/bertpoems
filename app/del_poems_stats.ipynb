{
 "cells": [
  {
   "cell_type": "markdown",
   "metadata": {},
   "source": [
    "# Poems stats"
   ]
  },
  {
   "cell_type": "code",
   "execution_count": 33,
   "metadata": {},
   "outputs": [],
   "source": [
    "import matplotlib.pyplot as plt\n",
    "import numpy as np\n",
    "import pandas as pd"
   ]
  },
  {
   "cell_type": "code",
   "execution_count": 34,
   "metadata": {},
   "outputs": [],
   "source": [
    "corpus = pd.read_csv(\"corpora/german_poems.csv\")"
   ]
  },
  {
   "cell_type": "code",
   "execution_count": 35,
   "metadata": {},
   "outputs": [],
   "source": [
    "corpus = corpus[(corpus[\"year\"] >= 1890)]# & (corpus[\"year\"] <= 1650) ]"
   ]
  },
  {
   "cell_type": "code",
   "execution_count": 36,
   "metadata": {},
   "outputs": [
    {
     "data": {
      "text/html": [
       "<div>\n",
       "<style scoped>\n",
       "    .dataframe tbody tr th:only-of-type {\n",
       "        vertical-align: middle;\n",
       "    }\n",
       "\n",
       "    .dataframe tbody tr th {\n",
       "        vertical-align: top;\n",
       "    }\n",
       "\n",
       "    .dataframe thead th {\n",
       "        text-align: right;\n",
       "    }\n",
       "</style>\n",
       "<table border=\"1\" class=\"dataframe\">\n",
       "  <thead>\n",
       "    <tr style=\"text-align: right;\">\n",
       "      <th></th>\n",
       "      <th>pid</th>\n",
       "      <th>filename</th>\n",
       "      <th>poet</th>\n",
       "      <th>title</th>\n",
       "      <th>year</th>\n",
       "      <th>poem</th>\n",
       "      <th>poemlength</th>\n",
       "    </tr>\n",
       "  </thead>\n",
       "  <tbody>\n",
       "    <tr>\n",
       "      <th>8</th>\n",
       "      <td>10927</td>\n",
       "      <td>Tucholsky, Kurt_Auf ein Frollein_1912</td>\n",
       "      <td>Tucholsky, Kurt</td>\n",
       "      <td>Auf ein Frollein</td>\n",
       "      <td>1912</td>\n",
       "      <td>Gott Amor zieht die Pfeile aus dem Köcher, er ...</td>\n",
       "      <td>218</td>\n",
       "    </tr>\n",
       "    <tr>\n",
       "      <th>11</th>\n",
       "      <td>7918</td>\n",
       "      <td>Dehmel, Richard Fedor Leopold_UNTITLED_1891</td>\n",
       "      <td>Dehmel, Richard Fedor Leopold</td>\n",
       "      <td>UNTITLED</td>\n",
       "      <td>1891</td>\n",
       "      <td>Der Abend war so dunkelschwer, und schwer durc...</td>\n",
       "      <td>102</td>\n",
       "    </tr>\n",
       "  </tbody>\n",
       "</table>\n",
       "</div>"
      ],
      "text/plain": [
       "      pid                                     filename  \\\n",
       "8   10927        Tucholsky, Kurt_Auf ein Frollein_1912   \n",
       "11   7918  Dehmel, Richard Fedor Leopold_UNTITLED_1891   \n",
       "\n",
       "                             poet             title  year  \\\n",
       "8                 Tucholsky, Kurt  Auf ein Frollein  1912   \n",
       "11  Dehmel, Richard Fedor Leopold          UNTITLED  1891   \n",
       "\n",
       "                                                 poem  poemlength  \n",
       "8   Gott Amor zieht die Pfeile aus dem Köcher, er ...         218  \n",
       "11  Der Abend war so dunkelschwer, und schwer durc...         102  "
      ]
     },
     "execution_count": 36,
     "metadata": {},
     "output_type": "execute_result"
    }
   ],
   "source": [
    "corpus.head(2)"
   ]
  },
  {
   "cell_type": "code",
   "execution_count": 37,
   "metadata": {},
   "outputs": [],
   "source": [
    "a = corpus[corpus[\"year\"] == 1899]\n",
    "b = corpus[corpus[\"year\"] == 1900]"
   ]
  },
  {
   "cell_type": "code",
   "execution_count": 38,
   "metadata": {},
   "outputs": [
    {
     "data": {
      "text/plain": [
       "Heym, Georg               124\n",
       "Holz, Arno                 50\n",
       "Hofmannsthal, Hugo von      9\n",
       "Hartleben, Otto Erich       3\n",
       "Rilke, Rainer Maria         1\n",
       "Name: poet, dtype: int64"
      ]
     },
     "execution_count": 38,
     "metadata": {},
     "output_type": "execute_result"
    }
   ],
   "source": [
    "a.poet.value_counts()"
   ]
  },
  {
   "cell_type": "code",
   "execution_count": 39,
   "metadata": {},
   "outputs": [
    {
     "data": {
      "text/plain": [
       "Rilke, Rainer Maria      346\n",
       "Trakl, Georg             136\n",
       "Sack, Gustav              65\n",
       "Rubiner, Ludwig           13\n",
       "Lautensack, Heinrich      11\n",
       "Hartleben, Otto Erich      4\n",
       "Name: poet, dtype: int64"
      ]
     },
     "execution_count": 39,
     "metadata": {},
     "output_type": "execute_result"
    }
   ],
   "source": [
    "b.poet.value_counts()"
   ]
  },
  {
   "cell_type": "code",
   "execution_count": null,
   "metadata": {},
   "outputs": [],
   "source": []
  },
  {
   "cell_type": "code",
   "execution_count": null,
   "metadata": {},
   "outputs": [],
   "source": []
  },
  {
   "cell_type": "code",
   "execution_count": 10,
   "metadata": {},
   "outputs": [
    {
     "data": {
      "text/plain": [
       "(13739, 7)"
      ]
     },
     "execution_count": 10,
     "metadata": {},
     "output_type": "execute_result"
    }
   ],
   "source": [
    "corpus.shape"
   ]
  },
  {
   "cell_type": "markdown",
   "metadata": {},
   "source": [
    "## Visualization"
   ]
  },
  {
   "cell_type": "code",
   "execution_count": 41,
   "metadata": {},
   "outputs": [
    {
     "data": {
      "image/png": "[encoded data removed]",
      "text/plain": [
       "<Figure size 432x288 with 1 Axes>"
      ]
     },
     "metadata": {
      "needs_background": "light"
     },
     "output_type": "display_data"
    }
   ],
   "source": [
    "plt.hist(corpus[\"year\"], \n",
    "         histtype=\"bar\",\n",
    "         color=\"#1f77b4\",\n",
    "         edgecolor=\"black\",\n",
    "         linewidth=0.4,\n",
    "         bins=100, \n",
    "         range=[1500,1950])\n",
    "plt.gca().set(title='Publication year histogram',\n",
    "              xlabel='Publication years',\n",
    "              ylabel='Frequency of poems')\n",
    "plt.xticks(np.arange(1500, 1950, 40))\n",
    "\"\"\"\n",
    "plt.savefig('../../data/figures/all_publication_years.png',\n",
    "            dpi=300,\n",
    "            bbox_inches='tight')\n",
    "\"\"\"\n",
    "plt.show()"
   ]
  },
  {
   "cell_type": "markdown",
   "metadata": {},
   "source": [
    "## SVM"
   ]
  },
  {
   "cell_type": "code",
   "execution_count": 55,
   "metadata": {},
   "outputs": [
    {
     "name": "stdout",
     "output_type": "stream",
     "text": [
      "Der Mittelwert der cross validation bei der Klassifizierung  mit SVM ist 0.915.\n",
      "\n",
      "Der F1-score für die Klassifizierung mit SVM ist 0.927.\n"
     ]
    }
   ],
   "source": [
    "from sklearn.feature_extraction.text import CountVectorizer, TfidfVectorizer\n",
    "from sklearn.svm import LinearSVC\n",
    "from sklearn.model_selection import train_test_split\n",
    "from sklearn.metrics import f1_score\n",
    "from sklearn.model_selection import cross_val_score\n",
    "import numpy as np\n",
    "\n",
    "labels = corpus[\"poet\"]\n",
    "vector  = TfidfVectorizer().fit_transform(corpus[\"poem\"])\n",
    "\n",
    "\n",
    "X_train, X_test, y_train, y_test = train_test_split(vector, \n",
    "                                                    labels, \n",
    "                                                    test_size=0.2, \n",
    "                                                    train_size=0.8,\n",
    "                                                    random_state=42)\n",
    "\n",
    "def classify_svm(C=1.0, cv=3):   \n",
    "    # SVM\n",
    "    svm_classifier = LinearSVC(C=C)\n",
    "    svm = svm_classifier.fit(X_train, y_train)\n",
    "\n",
    "    # cross validation des Trainingsdatensatzes\n",
    "    svm_scores = cross_val_score(svm_classifier, vector, labels, cv=cv)\n",
    "    svm_mean = np.mean(svm_scores)\n",
    "\n",
    "    print(\"Der Mittelwert der cross validation bei der Klassifizierung \" \n",
    "          + f\" mit SVM ist {str(np.around(svm_mean, decimals=3))}.\"\n",
    "          + \"\\n\")\n",
    "\n",
    "\n",
    "    # F1-score des Testdatensatzes\n",
    "    y_pred = svm_classifier.predict(X_test)\n",
    "    svm_f1 = f1_score(y_test, y_pred, average=\"micro\")\n",
    "\n",
    "    print(\"Der F1-score für die Klassifizierung mit SVM ist \"\n",
    "          + f\"{str(np.around(svm_f1, decimals=3))}.\")\n",
    "classify_svm()"
   ]
  },
  {
   "cell_type": "code",
   "execution_count": null,
   "metadata": {},
   "outputs": [],
   "source": []
  }
 ],
 "metadata": {
  "kernelspec": {
   "display_name": "Python 3",
   "language": "python",
   "name": "python3"
  },
  "language_info": {
   "codemirror_mode": {
    "name": "ipython",
    "version": 3
   },
   "file_extension": ".py",
   "mimetype": "text/x-python",
   "name": "python",
   "nbconvert_exporter": "python",
   "pygments_lexer": "ipython3",
   "version": "3.7.4"
  }
 },
 "nbformat": 4,
 "nbformat_minor": 2
}
