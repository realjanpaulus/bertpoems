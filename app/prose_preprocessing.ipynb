{
 "cells": [
  {
   "cell_type": "markdown",
   "metadata": {},
   "source": [
    "# Prose Preprocessing"
   ]
  },
  {
   "cell_type": "markdown",
   "metadata": {},
   "source": [
    "## known problems\n",
    "\n",
    "- some leftover metadata informations inside the `text`column\n",
    "- "
   ]
  },
  {
   "cell_type": "code",
   "execution_count": 29,
   "metadata": {},
   "outputs": [],
   "source": [
    "import matplotlib.pyplot as plt\n",
    "import pandas as pd\n",
    "import seaborn as sns"
   ]
  },
  {
   "cell_type": "code",
   "execution_count": 30,
   "metadata": {},
   "outputs": [],
   "source": [
    "prose = pd.read_csv(\"../corpora/german_prose_all.csv\")"
   ]
  },
  {
   "cell_type": "code",
   "execution_count": 31,
   "metadata": {},
   "outputs": [
    {
     "data": {
      "text/html": [
       "<div>\n",
       "<style scoped>\n",
       "    .dataframe tbody tr th:only-of-type {\n",
       "        vertical-align: middle;\n",
       "    }\n",
       "\n",
       "    .dataframe tbody tr th {\n",
       "        vertical-align: top;\n",
       "    }\n",
       "\n",
       "    .dataframe thead th {\n",
       "        text-align: right;\n",
       "    }\n",
       "</style>\n",
       "<table border=\"1\" class=\"dataframe\">\n",
       "  <thead>\n",
       "    <tr style=\"text-align: right;\">\n",
       "      <th></th>\n",
       "      <th>filename</th>\n",
       "      <th>author</th>\n",
       "      <th>title</th>\n",
       "      <th>year</th>\n",
       "      <th>textlength</th>\n",
       "      <th>text</th>\n",
       "    </tr>\n",
       "  </thead>\n",
       "  <tbody>\n",
       "    <tr>\n",
       "      <th>1306</th>\n",
       "      <td>Christoph_Martin_Wieland_-_Musarion_oder_die_P...</td>\n",
       "      <td>Christoph Martin Wieland</td>\n",
       "      <td>Musarion oder die Philosophie der Grazien</td>\n",
       "      <td>1768</td>\n",
       "      <td>17982</td>\n",
       "      <td>[ musarion ] Nach der Ausgabe letzter Hand ( 1...</td>\n",
       "    </tr>\n",
       "    <tr>\n",
       "      <th>107</th>\n",
       "      <td>Johann_Hinrich_Fehrs_-_Maren_(1907)</td>\n",
       "      <td>Johann Hinrich Fehrs</td>\n",
       "      <td>Maren</td>\n",
       "      <td>1907</td>\n",
       "      <td>160005</td>\n",
       "      <td>En Dörpromaan ut de Tiet von 1848/51 von mit B...</td>\n",
       "    </tr>\n",
       "    <tr>\n",
       "      <th>601</th>\n",
       "      <td>Franz_Kafka_-_Josefine_die_Sängerin_oder_Das_V...</td>\n",
       "      <td>Franz Kafka</td>\n",
       "      <td>Josefine die Sängerin oder Das Volk der Mäuse</td>\n",
       "      <td>1924</td>\n",
       "      <td>7049</td>\n",
       "      <td>Von Josefine , die Sängerin oder Das Volk der ...</td>\n",
       "    </tr>\n",
       "  </tbody>\n",
       "</table>\n",
       "</div>"
      ],
      "text/plain": [
       "                                               filename  \\\n",
       "1306  Christoph_Martin_Wieland_-_Musarion_oder_die_P...   \n",
       "107                 Johann_Hinrich_Fehrs_-_Maren_(1907)   \n",
       "601   Franz_Kafka_-_Josefine_die_Sängerin_oder_Das_V...   \n",
       "\n",
       "                        author                                          title  \\\n",
       "1306  Christoph Martin Wieland      Musarion oder die Philosophie der Grazien   \n",
       "107       Johann Hinrich Fehrs                                          Maren   \n",
       "601                Franz Kafka  Josefine die Sängerin oder Das Volk der Mäuse   \n",
       "\n",
       "      year  textlength                                               text  \n",
       "1306  1768       17982  [ musarion ] Nach der Ausgabe letzter Hand ( 1...  \n",
       "107   1907      160005  En Dörpromaan ut de Tiet von 1848/51 von mit B...  \n",
       "601   1924        7049  Von Josefine , die Sängerin oder Das Volk der ...  "
      ]
     },
     "execution_count": 31,
     "metadata": {},
     "output_type": "execute_result"
    }
   ],
   "source": [
    "prose.sample(3)"
   ]
  },
  {
   "cell_type": "markdown",
   "metadata": {},
   "source": [
    "## Shrink and edit corpus"
   ]
  },
  {
   "cell_type": "markdown",
   "metadata": {},
   "source": [
    "### Only prose of the early modern (= Frühe Moderne) according to Klaus Wieland\n",
    "\n",
    "Demarcation: https://journals.openedition.org/rg/976#ftn10"
   ]
  },
  {
   "cell_type": "code",
   "execution_count": 32,
   "metadata": {},
   "outputs": [],
   "source": [
    "prose = prose[(prose.year >= 1880) & (prose.year <= 1933)]"
   ]
  },
  {
   "cell_type": "code",
   "execution_count": 33,
   "metadata": {},
   "outputs": [
    {
     "data": {
      "text/plain": [
       "(1667, 6)"
      ]
     },
     "execution_count": 33,
     "metadata": {},
     "output_type": "execute_result"
    }
   ],
   "source": [
    "prose.shape"
   ]
  },
  {
   "cell_type": "markdown",
   "metadata": {},
   "source": [
    "### Literary Trends classification according to Klaus Wieland\n",
    "\n",
    "Classification: https://journals.openedition.org/rg/976#ftn10"
   ]
  },
  {
   "cell_type": "code",
   "execution_count": 34,
   "metadata": {},
   "outputs": [],
   "source": [
    "literary_trends = {\"Naturalismus\": list(range(1880, 1890)),\n",
    "                   \"Jahrhundertwende\" : list(range(1890, 1910)),\n",
    "                   \"Expressionismus_Dadaismus\": list(range(1910, 1925)),\n",
    "                   \"Neue Sachlichkeit\": list(range(1925, 1934))}"
   ]
  },
  {
   "cell_type": "code",
   "execution_count": 35,
   "metadata": {},
   "outputs": [],
   "source": [
    "def get_epoch(year):\n",
    "    epoch = \"\"\n",
    "    for k, v in literary_trends.items():\n",
    "        if year in v:\n",
    "            epoch = k\n",
    "            break\n",
    "    return epoch"
   ]
  },
  {
   "cell_type": "code",
   "execution_count": 36,
   "metadata": {},
   "outputs": [],
   "source": [
    "nprose = prose.copy()\n",
    "nprose[\"epoch\"] = nprose.apply(lambda row: get_epoch(row.year), axis=1)"
   ]
  },
  {
   "cell_type": "code",
   "execution_count": 37,
   "metadata": {},
   "outputs": [
    {
     "data": {
      "text/html": [
       "<div>\n",
       "<style scoped>\n",
       "    .dataframe tbody tr th:only-of-type {\n",
       "        vertical-align: middle;\n",
       "    }\n",
       "\n",
       "    .dataframe tbody tr th {\n",
       "        vertical-align: top;\n",
       "    }\n",
       "\n",
       "    .dataframe thead th {\n",
       "        text-align: right;\n",
       "    }\n",
       "</style>\n",
       "<table border=\"1\" class=\"dataframe\">\n",
       "  <thead>\n",
       "    <tr style=\"text-align: right;\">\n",
       "      <th></th>\n",
       "      <th>filename</th>\n",
       "      <th>author</th>\n",
       "      <th>title</th>\n",
       "      <th>year</th>\n",
       "      <th>textlength</th>\n",
       "      <th>text</th>\n",
       "      <th>epoch</th>\n",
       "    </tr>\n",
       "  </thead>\n",
       "  <tbody>\n",
       "    <tr>\n",
       "      <th>2167</th>\n",
       "      <td>Paul_Lindau_-_Toggenburg_(1883)</td>\n",
       "      <td>Paul Lindau</td>\n",
       "      <td>Toggenburg</td>\n",
       "      <td>1883</td>\n",
       "      <td>21513</td>\n",
       "      <td>Verlag der Wiking-Bücher Post &amp; Obermüller Bre...</td>\n",
       "      <td>Naturalismus</td>\n",
       "    </tr>\n",
       "    <tr>\n",
       "      <th>764</th>\n",
       "      <td>Nataly_von_Eschstruth_-_Der_Irrgeist_des_Schlo...</td>\n",
       "      <td>Nataly von Eschstruth</td>\n",
       "      <td>Der Irrgeist des Schlosses</td>\n",
       "      <td>1886</td>\n",
       "      <td>73004</td>\n",
       "      <td>Roman Dritte Auflage . Viertes und fünftes Tau...</td>\n",
       "      <td>Naturalismus</td>\n",
       "    </tr>\n",
       "    <tr>\n",
       "      <th>1085</th>\n",
       "      <td>Hermann_Bahr_-_Himmelfahrt_(1916)</td>\n",
       "      <td>Hermann Bahr</td>\n",
       "      <td>Himmelfahrt</td>\n",
       "      <td>1916</td>\n",
       "      <td>106834</td>\n",
       "      <td>1919 Über viele Dinge kann ich nur mit Gott re...</td>\n",
       "      <td>Expressionismus_Dadaismus</td>\n",
       "    </tr>\n",
       "  </tbody>\n",
       "</table>\n",
       "</div>"
      ],
      "text/plain": [
       "                                               filename  \\\n",
       "2167                    Paul_Lindau_-_Toggenburg_(1883)   \n",
       "764   Nataly_von_Eschstruth_-_Der_Irrgeist_des_Schlo...   \n",
       "1085                  Hermann_Bahr_-_Himmelfahrt_(1916)   \n",
       "\n",
       "                     author                       title  year  textlength  \\\n",
       "2167            Paul Lindau                  Toggenburg  1883       21513   \n",
       "764   Nataly von Eschstruth  Der Irrgeist des Schlosses  1886       73004   \n",
       "1085           Hermann Bahr                 Himmelfahrt  1916      106834   \n",
       "\n",
       "                                                   text  \\\n",
       "2167  Verlag der Wiking-Bücher Post & Obermüller Bre...   \n",
       "764   Roman Dritte Auflage . Viertes und fünftes Tau...   \n",
       "1085  1919 Über viele Dinge kann ich nur mit Gott re...   \n",
       "\n",
       "                          epoch  \n",
       "2167               Naturalismus  \n",
       "764                Naturalismus  \n",
       "1085  Expressionismus_Dadaismus  "
      ]
     },
     "execution_count": 37,
     "metadata": {},
     "output_type": "execute_result"
    }
   ],
   "source": [
    "nprose.sample(3)"
   ]
  },
  {
   "cell_type": "code",
   "execution_count": 40,
   "metadata": {},
   "outputs": [
    {
     "data": {
      "image/png": "[encoded data removed]",
      "text/plain": [
       "<Figure size 576x576 with 1 Axes>"
      ]
     },
     "metadata": {
      "needs_background": "light"
     },
     "output_type": "display_data"
    }
   ],
   "source": [
    "nprose.epoch.value_counts().plot(kind=\"barh\", figsize=(8, 8))\n",
    "plt.legend()\n",
    "plt.show()"
   ]
  },
  {
   "cell_type": "markdown",
   "metadata": {},
   "source": [
    "## Save csv with current date"
   ]
  },
  {
   "cell_type": "code",
   "execution_count": 42,
   "metadata": {},
   "outputs": [],
   "source": [
    "import datetime as dt\n",
    "\n",
    "today = dt.datetime.today().strftime('(%d_%m_%y)')  \n",
    "output_file = '../corpora/german_modern_prose{}.csv'.format(today)\n",
    "nprose.to_csv(output_file, index=False)"
   ]
  },
  {
   "cell_type": "code",
   "execution_count": null,
   "metadata": {},
   "outputs": [],
   "source": []
  },
  {
   "cell_type": "code",
   "execution_count": null,
   "metadata": {},
   "outputs": [],
   "source": []
  },
  {
   "cell_type": "code",
   "execution_count": null,
   "metadata": {},
   "outputs": [],
   "source": []
  },
  {
   "cell_type": "code",
   "execution_count": null,
   "metadata": {},
   "outputs": [],
   "source": [
    "sns.distplot(prose2.year, \n",
    "             kde=False, \n",
    "             rug=False, \n",
    "             bins=15, \n",
    "             hist_kws=dict(edgecolor=\"black\", linewidth=1),\n",
    "             axlabel=\"Jahr\")\n",
    "plt.axvline(prose2.year.mean(), 0, 1, \n",
    "            linestyle=\"-\",\n",
    "            linewidth=2.0,\n",
    "            color=\"black\",\n",
    "            label=\"Mittelwert\")\n",
    "plt.axvline(prose2.year.median(), 0, 1, \n",
    "            linestyle=\"--\",\n",
    "            linewidth=2.0,\n",
    "            color=\"#d45087\",\n",
    "            label=\"Median\")\n",
    "plt.legend()\n",
    "plt.title(\"Verteilung der Prosa Werke nach Erscheinungsjahren\")\n",
    "plt.show()"
   ]
  }
 ],
 "metadata": {
  "kernelspec": {
   "display_name": "Python 3",
   "language": "python",
   "name": "python3"
  },
  "language_info": {
   "codemirror_mode": {
    "name": "ipython",
    "version": 3
   },
   "file_extension": ".py",
   "mimetype": "text/x-python",
   "name": "python",
   "nbconvert_exporter": "python",
   "pygments_lexer": "ipython3",
   "version": "3.7.4"
  }
 },
 "nbformat": 4,
 "nbformat_minor": 2
}
